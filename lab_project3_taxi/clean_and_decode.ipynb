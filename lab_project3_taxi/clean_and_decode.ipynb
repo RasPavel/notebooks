{
 "cells": [
  {
   "cell_type": "code",
   "execution_count": 1,
   "metadata": {},
   "outputs": [
    {
     "name": "stdout",
     "output_type": "stream",
     "text": [
      "chicago_taxi_trips_2016_01.csv\tchicago_taxi_trips_2016_09.csv\r\n",
      "chicago_taxi_trips_2016_02.csv\tchicago_taxi_trips_2016_10.csv\r\n",
      "chicago_taxi_trips_2016_03.csv\tchicago_taxi_trips_2016_11.csv\r\n",
      "chicago_taxi_trips_2016_04.csv\tchicago_taxi_trips_2016_12.csv\r\n",
      "chicago_taxi_trips_2016_05.csv\tcolumn_remapping.json\r\n",
      "chicago_taxi_trips_2016_06.csv\tcompany_dedupe_map.p\r\n",
      "chicago_taxi_trips_2016_07.csv\tdata_dictionary.csv\r\n",
      "chicago_taxi_trips_2016_08.csv\r\n"
     ]
    }
   ],
   "source": [
    "!ls data"
   ]
  },
  {
   "cell_type": "code",
   "execution_count": 13,
   "metadata": {},
   "outputs": [],
   "source": [
    "import pandas as pd\n",
    "import numpy as np\n",
    "import json\n",
    "import pickle"
   ]
  },
  {
   "cell_type": "code",
   "execution_count": 3,
   "metadata": {},
   "outputs": [],
   "source": [
    "trips = pd.read_csv('data/chicago_taxi_trips_2016_01.csv')\n",
    "\n",
    "mapping = pd.read_json('data/column_remapping.json')\n",
    "\n",
    "with open('data/company_dedupe_map.p', 'rb') as f:\n",
    "    company_dedupe_map = pickle.load(f)"
   ]
  },
  {
   "cell_type": "code",
   "execution_count": 4,
   "metadata": {},
   "outputs": [],
   "source": [
    "def prepare(trips):\n",
    "    # drop zero fares\n",
    "    n = trips.shape[0]\n",
    "    trips = trips.dropna(subset=['fare'])\n",
    "    print(f'{n - trips.shape[0]} rows with 0 fare were dropped')\n",
    "    \n",
    "    # drop zero trip_miles\n",
    "    n = trips.shape[0]\n",
    "    trips = trips[trips.trip_miles > 0]\n",
    "    print(f'{n - trips.shape[0]} rows with 0 trip_miles were dropped')\n",
    "    \n",
    "    # drop na geo coordinates\n",
    "    n = trips.shape[0]\n",
    "    trips = trips.dropna(subset=['pickup_latitude', 'pickup_longitude', 'dropoff_latitude', 'dropoff_longitude'])\n",
    "    print(f'{n - trips.shape[0]} rows with na geo coordinates were dropped')\n",
    "    \n",
    "    # restore real longitude/latitude\n",
    "    trips['pickup_latitude'] = trips['pickup_latitude'].map(lambda x: mapping.pickup_latitude[x])\n",
    "    trips['pickup_longitude'] = trips['pickup_longitude'].map(lambda x: mapping.pickup_longitude[x])\n",
    "    trips['dropoff_latitude'] = trips['dropoff_latitude'].map(lambda x: mapping.dropoff_latitude[x])\n",
    "    trips['dropoff_longitude'] = trips['dropoff_longitude'].map(lambda x: mapping.dropoff_longitude[x])\n",
    "    \n",
    "    # remove duplicates in company names (taken from https://www.kaggle.com/sohier/taxi-revenues-eda)\n",
    "    trips.company = trips.company.map(company_dedupe_map, na_action='ignore')\n",
    "    \n",
    "    # restore company names\n",
    "    trips.company = trips.company.map(lambda x: mapping['company'][x], na_action='ignore')\n",
    "\n",
    "    return trips"
   ]
  },
  {
   "cell_type": "code",
   "execution_count": 5,
   "metadata": {},
   "outputs": [
    {
     "name": "stdout",
     "output_type": "stream",
     "text": [
      "Reading data/chicago_taxi_trips_2016_01.csv\n",
      "33 rows with 0 fare were dropped\n",
      "450266 rows with 0 trip_miles were dropped\n",
      "160271 rows with na geo coordinates were dropped\n",
      "Reading data/chicago_taxi_trips_2016_02.csv\n",
      "10 rows with 0 fare were dropped\n",
      "458117 rows with 0 trip_miles were dropped\n",
      "161625 rows with na geo coordinates were dropped\n"
     ]
    }
   ],
   "source": [
    "all_trips = []\n",
    "\n",
    "# let's keep only the first two months\n",
    "for i in range(1,3):\n",
    "    fname = f'data/chicago_taxi_trips_2016_{i:02d}.csv'\n",
    "    print(f'Reading {fname}')\n",
    "    df = pd.read_csv(fname)\n",
    "    all_trips.append(prepare(df))"
   ]
  },
  {
   "cell_type": "code",
   "execution_count": 6,
   "metadata": {},
   "outputs": [],
   "source": [
    "trips_2months = pd.concat(all_trips[:2], axis=0)"
   ]
  },
  {
   "cell_type": "code",
   "execution_count": 7,
   "metadata": {},
   "outputs": [],
   "source": [
    "trips_2months.to_csv('taxi_trips_2months.csv.gz', compression='gzip')"
   ]
  },
  {
   "cell_type": "code",
   "execution_count": 8,
   "metadata": {},
   "outputs": [
    {
     "data": {
      "text/html": [
       "<div>\n",
       "<style scoped>\n",
       "    .dataframe tbody tr th:only-of-type {\n",
       "        vertical-align: middle;\n",
       "    }\n",
       "\n",
       "    .dataframe tbody tr th {\n",
       "        vertical-align: top;\n",
       "    }\n",
       "\n",
       "    .dataframe thead th {\n",
       "        text-align: right;\n",
       "    }\n",
       "</style>\n",
       "<table border=\"1\" class=\"dataframe\">\n",
       "  <thead>\n",
       "    <tr style=\"text-align: right;\">\n",
       "      <th></th>\n",
       "      <th>taxi_id</th>\n",
       "      <th>trip_start_timestamp</th>\n",
       "      <th>trip_end_timestamp</th>\n",
       "      <th>trip_seconds</th>\n",
       "      <th>trip_miles</th>\n",
       "      <th>pickup_census_tract</th>\n",
       "      <th>dropoff_census_tract</th>\n",
       "      <th>pickup_community_area</th>\n",
       "      <th>dropoff_community_area</th>\n",
       "      <th>fare</th>\n",
       "      <th>tips</th>\n",
       "      <th>tolls</th>\n",
       "      <th>extras</th>\n",
       "      <th>trip_total</th>\n",
       "      <th>payment_type</th>\n",
       "      <th>company</th>\n",
       "      <th>pickup_latitude</th>\n",
       "      <th>pickup_longitude</th>\n",
       "      <th>dropoff_latitude</th>\n",
       "      <th>dropoff_longitude</th>\n",
       "    </tr>\n",
       "  </thead>\n",
       "  <tbody>\n",
       "    <tr>\n",
       "      <th>0</th>\n",
       "      <td>85.0</td>\n",
       "      <td>2016-1-13 06:15:00</td>\n",
       "      <td>2016-1-13 06:15:00</td>\n",
       "      <td>180.0</td>\n",
       "      <td>0.4</td>\n",
       "      <td>NaN</td>\n",
       "      <td>NaN</td>\n",
       "      <td>24.0</td>\n",
       "      <td>24.0</td>\n",
       "      <td>4.50</td>\n",
       "      <td>0.0</td>\n",
       "      <td>0.0</td>\n",
       "      <td>0.0</td>\n",
       "      <td>4.50</td>\n",
       "      <td>Cash</td>\n",
       "      <td>Taxi Affiliation Services</td>\n",
       "      <td>41.901207</td>\n",
       "      <td>-87.676356</td>\n",
       "      <td>41.901207</td>\n",
       "      <td>-87.676356</td>\n",
       "    </tr>\n",
       "    <tr>\n",
       "      <th>3</th>\n",
       "      <td>4237.0</td>\n",
       "      <td>2016-1-23 17:30:00</td>\n",
       "      <td>2016-1-23 17:30:00</td>\n",
       "      <td>480.0</td>\n",
       "      <td>1.1</td>\n",
       "      <td>NaN</td>\n",
       "      <td>NaN</td>\n",
       "      <td>6.0</td>\n",
       "      <td>6.0</td>\n",
       "      <td>7.00</td>\n",
       "      <td>0.0</td>\n",
       "      <td>0.0</td>\n",
       "      <td>0.0</td>\n",
       "      <td>7.00</td>\n",
       "      <td>Cash</td>\n",
       "      <td>NaN</td>\n",
       "      <td>41.944227</td>\n",
       "      <td>-87.655998</td>\n",
       "      <td>41.944227</td>\n",
       "      <td>-87.655998</td>\n",
       "    </tr>\n",
       "    <tr>\n",
       "      <th>5</th>\n",
       "      <td>1987.0</td>\n",
       "      <td>2016-1-8 18:15:00</td>\n",
       "      <td>2016-1-8 18:45:00</td>\n",
       "      <td>1080.0</td>\n",
       "      <td>6.2</td>\n",
       "      <td>NaN</td>\n",
       "      <td>NaN</td>\n",
       "      <td>8.0</td>\n",
       "      <td>3.0</td>\n",
       "      <td>17.75</td>\n",
       "      <td>0.0</td>\n",
       "      <td>0.0</td>\n",
       "      <td>0.0</td>\n",
       "      <td>17.75</td>\n",
       "      <td>Cash</td>\n",
       "      <td>NaN</td>\n",
       "      <td>41.899602</td>\n",
       "      <td>-87.633308</td>\n",
       "      <td>41.965812</td>\n",
       "      <td>-87.655879</td>\n",
       "    </tr>\n",
       "    <tr>\n",
       "      <th>7</th>\n",
       "      <td>6400.0</td>\n",
       "      <td>2016-1-26 04:15:00</td>\n",
       "      <td>2016-1-26 04:15:00</td>\n",
       "      <td>60.0</td>\n",
       "      <td>0.2</td>\n",
       "      <td>NaN</td>\n",
       "      <td>NaN</td>\n",
       "      <td>16.0</td>\n",
       "      <td>16.0</td>\n",
       "      <td>3.75</td>\n",
       "      <td>0.0</td>\n",
       "      <td>0.0</td>\n",
       "      <td>0.0</td>\n",
       "      <td>3.75</td>\n",
       "      <td>Cash</td>\n",
       "      <td>Taxi Affiliation Services</td>\n",
       "      <td>41.953582</td>\n",
       "      <td>-87.723452</td>\n",
       "      <td>41.953582</td>\n",
       "      <td>-87.723452</td>\n",
       "    </tr>\n",
       "    <tr>\n",
       "      <th>10</th>\n",
       "      <td>1078.0</td>\n",
       "      <td>2016-1-25 09:00:00</td>\n",
       "      <td>2016-1-25 09:00:00</td>\n",
       "      <td>480.0</td>\n",
       "      <td>1.3</td>\n",
       "      <td>NaN</td>\n",
       "      <td>792.0</td>\n",
       "      <td>8.0</td>\n",
       "      <td>8.0</td>\n",
       "      <td>7.00</td>\n",
       "      <td>1.0</td>\n",
       "      <td>0.0</td>\n",
       "      <td>0.0</td>\n",
       "      <td>8.00</td>\n",
       "      <td>Credit Card</td>\n",
       "      <td>Choice Taxi Association</td>\n",
       "      <td>41.898332</td>\n",
       "      <td>-87.620763</td>\n",
       "      <td>41.893216</td>\n",
       "      <td>-87.637844</td>\n",
       "    </tr>\n",
       "  </tbody>\n",
       "</table>\n",
       "</div>"
      ],
      "text/plain": [
       "    taxi_id trip_start_timestamp  trip_end_timestamp  trip_seconds  \\\n",
       "0      85.0   2016-1-13 06:15:00  2016-1-13 06:15:00         180.0   \n",
       "3    4237.0   2016-1-23 17:30:00  2016-1-23 17:30:00         480.0   \n",
       "5    1987.0    2016-1-8 18:15:00   2016-1-8 18:45:00        1080.0   \n",
       "7    6400.0   2016-1-26 04:15:00  2016-1-26 04:15:00          60.0   \n",
       "10   1078.0   2016-1-25 09:00:00  2016-1-25 09:00:00         480.0   \n",
       "\n",
       "    trip_miles  pickup_census_tract  dropoff_census_tract  \\\n",
       "0          0.4                  NaN                   NaN   \n",
       "3          1.1                  NaN                   NaN   \n",
       "5          6.2                  NaN                   NaN   \n",
       "7          0.2                  NaN                   NaN   \n",
       "10         1.3                  NaN                 792.0   \n",
       "\n",
       "    pickup_community_area  dropoff_community_area   fare  tips  tolls  extras  \\\n",
       "0                    24.0                    24.0   4.50   0.0    0.0     0.0   \n",
       "3                     6.0                     6.0   7.00   0.0    0.0     0.0   \n",
       "5                     8.0                     3.0  17.75   0.0    0.0     0.0   \n",
       "7                    16.0                    16.0   3.75   0.0    0.0     0.0   \n",
       "10                    8.0                     8.0   7.00   1.0    0.0     0.0   \n",
       "\n",
       "    trip_total payment_type                    company  pickup_latitude  \\\n",
       "0         4.50         Cash  Taxi Affiliation Services        41.901207   \n",
       "3         7.00         Cash                        NaN        41.944227   \n",
       "5        17.75         Cash                        NaN        41.899602   \n",
       "7         3.75         Cash  Taxi Affiliation Services        41.953582   \n",
       "10        8.00  Credit Card    Choice Taxi Association        41.898332   \n",
       "\n",
       "    pickup_longitude  dropoff_latitude  dropoff_longitude  \n",
       "0         -87.676356         41.901207         -87.676356  \n",
       "3         -87.655998         41.944227         -87.655998  \n",
       "5         -87.633308         41.965812         -87.655879  \n",
       "7         -87.723452         41.953582         -87.723452  \n",
       "10        -87.620763         41.893216         -87.637844  "
      ]
     },
     "execution_count": 8,
     "metadata": {},
     "output_type": "execute_result"
    }
   ],
   "source": [
    "trips_2months.head()"
   ]
  },
  {
   "cell_type": "code",
   "execution_count": 9,
   "metadata": {},
   "outputs": [
    {
     "data": {
      "text/plain": [
       "(2226675, 20)"
      ]
     },
     "execution_count": 9,
     "metadata": {},
     "output_type": "execute_result"
    }
   ],
   "source": [
    "trips_2months.shape"
   ]
  },
  {
   "cell_type": "code",
   "execution_count": 11,
   "metadata": {},
   "outputs": [
    {
     "data": {
      "text/plain": [
       "3537"
      ]
     },
     "execution_count": 11,
     "metadata": {},
     "output_type": "execute_result"
    }
   ],
   "source": [
    "trips_2months.taxi_id.nunique()"
   ]
  },
  {
   "cell_type": "code",
   "execution_count": 15,
   "metadata": {},
   "outputs": [],
   "source": [
    "sampled_taxi_ids = np.random.choice(trips_2months.taxi_id.unique(), size=500, replace=False)"
   ]
  },
  {
   "cell_type": "code",
   "execution_count": 16,
   "metadata": {},
   "outputs": [],
   "source": [
    "trips_2months_sample = trips_2months[trips_2months.taxi_id.isin(sampled_taxi_ids)]"
   ]
  },
  {
   "cell_type": "code",
   "execution_count": 19,
   "metadata": {},
   "outputs": [
    {
     "data": {
      "text/plain": [
       "(311151, 20)"
      ]
     },
     "execution_count": 19,
     "metadata": {},
     "output_type": "execute_result"
    }
   ],
   "source": [
    "trips_2months_sample.shape"
   ]
  },
  {
   "cell_type": "code",
   "execution_count": 20,
   "metadata": {},
   "outputs": [],
   "source": [
    "trips_2months_sample.to_csv('taxi_trips_2months_sample.csv.gz', compression='gzip')"
   ]
  }
 ],
 "metadata": {
  "kernelspec": {
   "display_name": "Python 3",
   "language": "python",
   "name": "python3"
  },
  "language_info": {
   "codemirror_mode": {
    "name": "ipython",
    "version": 3
   },
   "file_extension": ".py",
   "mimetype": "text/x-python",
   "name": "python",
   "nbconvert_exporter": "python",
   "pygments_lexer": "ipython3",
   "version": "3.8.2"
  }
 },
 "nbformat": 4,
 "nbformat_minor": 4
}
