{
 "cells": [
  {
   "cell_type": "code",
   "execution_count": 1,
   "metadata": {},
   "outputs": [
    {
     "name": "stdout",
     "output_type": "stream",
     "text": [
      "chicago_taxi_trips_2016_01.csv\tchicago_taxi_trips_2016_09.csv\r\n",
      "chicago_taxi_trips_2016_02.csv\tchicago_taxi_trips_2016_10.csv\r\n",
      "chicago_taxi_trips_2016_03.csv\tchicago_taxi_trips_2016_11.csv\r\n",
      "chicago_taxi_trips_2016_04.csv\tchicago_taxi_trips_2016_12.csv\r\n",
      "chicago_taxi_trips_2016_05.csv\tcolumn_remapping.json\r\n",
      "chicago_taxi_trips_2016_06.csv\tcompany_dedupe_map.p\r\n",
      "chicago_taxi_trips_2016_07.csv\tdata_dictionary.csv\r\n",
      "chicago_taxi_trips_2016_08.csv\r\n"
     ]
    }
   ],
   "source": [
    "!ls data"
   ]
  },
  {
   "cell_type": "code",
   "execution_count": 2,
   "metadata": {},
   "outputs": [],
   "source": [
    "import pandas as pd\n",
    "import json\n",
    "import pickle"
   ]
  },
  {
   "cell_type": "code",
   "execution_count": 3,
   "metadata": {},
   "outputs": [],
   "source": [
    "trips = pd.read_csv('data/chicago_taxi_trips_2016_01.csv')\n",
    "\n",
    "mapping = pd.read_json('data/column_remapping.json')\n",
    "\n",
    "with open('data/company_dedupe_map.p', 'rb') as f:\n",
    "    company_dedupe_map = pickle.load(f)"
   ]
  },
  {
   "cell_type": "code",
   "execution_count": 4,
   "metadata": {},
   "outputs": [],
   "source": [
    "def prepare(trips):\n",
    "    # drop zero fares\n",
    "    n = trips.shape[0]\n",
    "    trips = trips.dropna(subset=['fare'])\n",
    "    print(f'{n - trips.shape[0]} rows with 0 fare were dropped')\n",
    "    \n",
    "    # drop zero trip_miles\n",
    "    n = trips.shape[0]\n",
    "    trips = trips[trips.trip_miles > 0]\n",
    "    print(f'{n - trips.shape[0]} rows with 0 trip_miles were dropped')\n",
    "    \n",
    "    # drop na geo coordinates\n",
    "    n = trips.shape[0]\n",
    "    trips = trips.dropna(subset=['pickup_latitude', 'pickup_longitude', 'dropoff_latitude', 'dropoff_longitude'])\n",
    "    print(f'{n - trips.shape[0]} rows with na geo coordinates were dropped')\n",
    "    \n",
    "    # restore real longitude/latitude\n",
    "    trips['pickup_latitude'] = trips['pickup_latitude'].map(lambda x: mapping.pickup_latitude[x])\n",
    "    trips['pickup_longitude'] = trips['pickup_longitude'].map(lambda x: mapping.pickup_longitude[x])\n",
    "    trips['dropoff_latitude'] = trips['dropoff_latitude'].map(lambda x: mapping.dropoff_latitude[x])\n",
    "    trips['dropoff_longitude'] = trips['dropoff_longitude'].map(lambda x: mapping.dropoff_longitude[x])\n",
    "    \n",
    "    # remove duplicates in company names (taken from https://www.kaggle.com/sohier/taxi-revenues-eda)\n",
    "    trips.company = trips.company.map(company_dedupe_map, na_action='ignore')\n",
    "    \n",
    "    # restore company names\n",
    "    trips.company = trips.company.map(lambda x: mapping['company'][x], na_action='ignore')\n",
    "\n",
    "    return trips"
   ]
  },
  {
   "cell_type": "code",
   "execution_count": 5,
   "metadata": {},
   "outputs": [
    {
     "name": "stdout",
     "output_type": "stream",
     "text": [
      "Reading data/chicago_taxi_trips_2016_01.csv\n",
      "33 rows with 0 fare were dropped\n",
      "450266 rows with 0 trip_miles were dropped\n",
      "160271 rows with na geo coordinates were dropped\n",
      "Reading data/chicago_taxi_trips_2016_02.csv\n",
      "10 rows with 0 fare were dropped\n",
      "458117 rows with 0 trip_miles were dropped\n",
      "161625 rows with na geo coordinates were dropped\n"
     ]
    }
   ],
   "source": [
    "all_trips = []\n",
    "\n",
    "# let's keep only the first two months\n",
    "for i in range(1,3):\n",
    "    fname = f'data/chicago_taxi_trips_2016_{i:02d}.csv'\n",
    "    print(f'Reading {fname}')\n",
    "    df = pd.read_csv(fname)\n",
    "    all_trips.append(prepare(df))"
   ]
  },
  {
   "cell_type": "code",
   "execution_count": 6,
   "metadata": {},
   "outputs": [],
   "source": [
    "trips_2months = pd.concat(all_trips[:2], axis=0)"
   ]
  },
  {
   "cell_type": "code",
   "execution_count": 7,
   "metadata": {},
   "outputs": [],
   "source": [
    "trips_2months.to_csv('taxi_trips_2months.csv.gz', compression='gzip')"
   ]
  }
 ],
 "metadata": {
  "kernelspec": {
   "display_name": "Python 3",
   "language": "python",
   "name": "python3"
  },
  "language_info": {
   "codemirror_mode": {
    "name": "ipython",
    "version": 3
   },
   "file_extension": ".py",
   "mimetype": "text/x-python",
   "name": "python",
   "nbconvert_exporter": "python",
   "pygments_lexer": "ipython3",
   "version": "3.8.2"
  }
 },
 "nbformat": 4,
 "nbformat_minor": 4
}
